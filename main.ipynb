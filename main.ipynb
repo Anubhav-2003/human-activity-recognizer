{
 "cells": [
  {
   "cell_type": "markdown",
   "id": "84e1cab9-b986-4267-a9a4-316c6840d9ff",
   "metadata": {},
   "source": [
    "# Importing Libraries and Loading Data"
   ]
  },
  {
   "cell_type": "code",
   "execution_count": 11,
   "id": "bc872333-64ce-46ed-b54c-1315cae62e70",
   "metadata": {},
   "outputs": [],
   "source": [
    "import requests\n",
    "from bs4 import BeautifulSoup\n",
    "import zipfile\n",
    "import io\n",
    "import pandas as pd\n",
    "from sklearn.cluster import KMeans\n",
    "from sklearn.model_selection import train_test_split\n",
    "from sklearn.preprocessing import LabelEncoder, StandardScaler\n",
    "from sklearn.linear_model import LogisticRegression\n",
    "from sklearn.pipeline import Pipeline\n",
    "from sklearn.metrics import accuracy_score, classification_report\n",
    "import numpy as np\n",
    "import time\n",
    "\n",
    "def loadData():\n",
    "    url = 'https://archive.ics.uci.edu/ml/machine-learning-databases/00240/UCI%20HAR%20Dataset.zip'\n",
    "    response = requests.get(url)\n",
    "\n",
    "    if response.status_code == 200:\n",
    "        with zipfile.ZipFile(io.BytesIO(response.content)) as zip_ref:\n",
    "            with zip_ref.open('UCI HAR Dataset/train/X_train.txt') as myfile:\n",
    "                df = pd.read_csv(myfile, delim_whitespace=True, header=None)\n",
    "            with zip_ref.open('UCI HAR Dataset/train/y_train.txt') as myfile_y:\n",
    "                y = pd.read_csv(myfile_y, delim_whitespace=True, header=None)\n",
    "    else:\n",
    "        raise Exception(\"Failed to download or parse the dataset.\")\n",
    "\n",
    "    return df, y\n"
   ]
  },
  {
   "cell_type": "code",
   "execution_count": 12,
   "id": "9df1d6b9-91da-46eb-8a66-c36a403c37c3",
   "metadata": {},
   "outputs": [
    {
     "name": "stderr",
     "output_type": "stream",
     "text": [
      "/tmp/ipykernel_9121/3227644454.py:22: FutureWarning: The 'delim_whitespace' keyword in pd.read_csv is deprecated and will be removed in a future version. Use ``sep='\\s+'`` instead\n",
      "  df = pd.read_csv(myfile, delim_whitespace=True, header=None)\n",
      "/tmp/ipykernel_9121/3227644454.py:24: FutureWarning: The 'delim_whitespace' keyword in pd.read_csv is deprecated and will be removed in a future version. Use ``sep='\\s+'`` instead\n",
      "  y = pd.read_csv(myfile_y, delim_whitespace=True, header=None)\n"
     ]
    }
   ],
   "source": [
    "df, y = loadData()\n",
    "\n",
    "labelEncoder = LabelEncoder()\n",
    "yEncoded = labelEncoder.fit_transform(y.values.ravel())"
   ]
  },
  {
   "cell_type": "code",
   "execution_count": 13,
   "id": "9d96f025-4986-48f1-a2d1-b6899034dd31",
   "metadata": {},
   "outputs": [],
   "source": [
    "standardizer = StandardScaler()\n",
    "dfStandardized = standardizer.fit_transform(df)\n",
    "\n",
    "# print(df[:20])\n",
    "\n",
    "X_train_full, X_test_full, y_train, y_test = train_test_split(dfStandardized, yEncoded, test_size=0.2, random_state=42)"
   ]
  },
  {
   "cell_type": "markdown",
   "id": "f4b1f541-ac71-4973-87b5-ef26f0a271ff",
   "metadata": {},
   "source": [
    "# Baseline model with all features using Naive Bayes"
   ]
  },
  {
   "cell_type": "code",
   "execution_count": null,
   "id": "feae2c1f-5091-4428-a073-e0b7de1ec271",
   "metadata": {},
   "outputs": [],
   "source": [
    "startTime = time.time()\n",
    "classifierPipelineComplete = Pipeline([\n",
    "    ('classifier', GaussianNB())\n",
    "])\n",
    "classifierPipelineComplete.fit(X_train_full, y_train)\n",
    "y_pred_full = classifierPipelineComplete.predict(X_test_full)\n",
    "end_time = time.time()\n",
    "full_features_time = end_time - start_time\n",
    "accuracy_full = accuracy_score(y_test, y_pred_full)"
   ]
  }
 ],
 "metadata": {
  "kernelspec": {
   "display_name": "Python 3 (ipykernel)",
   "language": "python",
   "name": "python3"
  },
  "language_info": {
   "codemirror_mode": {
    "name": "ipython",
    "version": 3
   },
   "file_extension": ".py",
   "mimetype": "text/x-python",
   "name": "python",
   "nbconvert_exporter": "python",
   "pygments_lexer": "ipython3",
   "version": "3.11.9"
  }
 },
 "nbformat": 4,
 "nbformat_minor": 5
}
