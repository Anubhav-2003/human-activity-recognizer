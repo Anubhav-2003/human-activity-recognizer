{
 "cells": [
  {
   "cell_type": "markdown",
   "id": "84e1cab9-b986-4267-a9a4-316c6840d9ff",
   "metadata": {},
   "source": [
    "## Importing Libraries and Loading Data"
   ]
  },
  {
   "cell_type": "code",
   "execution_count": 4,
   "id": "bc872333-64ce-46ed-b54c-1315cae62e70",
   "metadata": {},
   "outputs": [],
   "source": [
    "import requests\n",
    "from bs4 import BeautifulSoup\n",
    "import zipfile\n",
    "import io\n",
    "import pandas as pd\n",
    "from sklearn.cluster import KMeans\n",
    "from sklearn.model_selection import train_test_split\n",
    "from sklearn.preprocessing import LabelEncoder, StandardScaler\n",
    "from sklearn.linear_model import LogisticRegression\n",
    "from sklearn.pipeline import Pipeline\n",
    "from sklearn.metrics import accuracy_score, classification_report\n",
    "import numpy as np\n",
    "import time\n",
    "\n",
    "def loadData():\n",
    "    url = 'https://archive.ics.uci.edu/ml/machine-learning-databases/00240/UCI%20HAR%20Dataset.zip'\n",
    "    response = requests.get(url)\n",
    "\n",
    "    if response.status_code == 200:\n",
    "        with zipfile.ZipFile(io.BytesIO(response.content)) as zip_ref:\n",
    "            with zip_ref.open('UCI HAR Dataset/train/X_train.txt') as myfile:\n",
    "                df = pd.read_csv(myfile, delim_whitespace=True, header=None)\n",
    "            with zip_ref.open('UCI HAR Dataset/train/y_train.txt') as myfile_y:\n",
    "                y = pd.read_csv(myfile_y, delim_whitespace=True, header=None)\n",
    "    else:\n",
    "        raise Exception(\"Failed to download or parse the dataset.\")\n",
    "\n",
    "    return df, y\n"
   ]
  },
  {
   "cell_type": "code",
   "execution_count": 6,
   "id": "9df1d6b9-91da-46eb-8a66-c36a403c37c3",
   "metadata": {},
   "outputs": [
    {
     "name": "stderr",
     "output_type": "stream",
     "text": [
      "/tmp/ipykernel_9121/3227644454.py:22: FutureWarning: The 'delim_whitespace' keyword in pd.read_csv is deprecated and will be removed in a future version. Use ``sep='\\s+'`` instead\n",
      "  df = pd.read_csv(myfile, delim_whitespace=True, header=None)\n"
     ]
    },
    {
     "name": "stdout",
     "output_type": "stream",
     "text": [
      "      0\n",
      "0     5\n",
      "1     5\n",
      "2     5\n",
      "3     5\n",
      "4     5\n",
      "...  ..\n",
      "7347  2\n",
      "7348  2\n",
      "7349  2\n",
      "7350  2\n",
      "7351  2\n",
      "\n",
      "[7352 rows x 1 columns]\n"
     ]
    },
    {
     "name": "stderr",
     "output_type": "stream",
     "text": [
      "/tmp/ipykernel_9121/3227644454.py:24: FutureWarning: The 'delim_whitespace' keyword in pd.read_csv is deprecated and will be removed in a future version. Use ``sep='\\s+'`` instead\n",
      "  y = pd.read_csv(myfile_y, delim_whitespace=True, header=None)\n"
     ]
    }
   ],
   "source": [
    "df, y = loadData()\n",
    "\n",
    "labelEncoder = LabelEncoder()\n",
    "yEncoded = labelEncoder.fit_transform(y.values.ravel())"
   ]
  },
  {
   "cell_type": "code",
   "execution_count": 9,
   "id": "9d96f025-4986-48f1-a2d1-b6899034dd31",
   "metadata": {},
   "outputs": [
    {
     "name": "stdout",
     "output_type": "stream",
     "text": [
      "         0         1         2         3         4         5         6    \\\n",
      "0   0.288585 -0.020294 -0.132905 -0.995279 -0.983111 -0.913526 -0.995112   \n",
      "1   0.278419 -0.016411 -0.123520 -0.998245 -0.975300 -0.960322 -0.998807   \n",
      "2   0.279653 -0.019467 -0.113462 -0.995380 -0.967187 -0.978944 -0.996520   \n",
      "3   0.279174 -0.026201 -0.123283 -0.996091 -0.983403 -0.990675 -0.997099   \n",
      "4   0.276629 -0.016570 -0.115362 -0.998139 -0.980817 -0.990482 -0.998321   \n",
      "5   0.277199 -0.010098 -0.105137 -0.997335 -0.990487 -0.995420 -0.997627   \n",
      "6   0.279454 -0.019641 -0.110022 -0.996921 -0.967186 -0.983118 -0.997003   \n",
      "7   0.277432 -0.030488 -0.125360 -0.996559 -0.966728 -0.981585 -0.996485   \n",
      "8   0.277293 -0.021751 -0.120751 -0.997328 -0.961245 -0.983672 -0.997596   \n",
      "9   0.280586 -0.009960 -0.106065 -0.994803 -0.972758 -0.986244 -0.995405   \n",
      "10  0.276880 -0.012722 -0.103438 -0.994815 -0.973077 -0.985357 -0.995509   \n",
      "11  0.276228 -0.021441 -0.108202 -0.998246 -0.987214 -0.992727 -0.998251   \n",
      "12  0.278457 -0.020415 -0.112732 -0.999135 -0.984680 -0.996274 -0.999077   \n",
      "13  0.277175 -0.014713 -0.106756 -0.999188 -0.990526 -0.993365 -0.999211   \n",
      "14  0.297946  0.027094 -0.061668 -0.988641 -0.816699 -0.901907 -0.988958   \n",
      "15  0.279203 -0.023020 -0.122080 -0.996839 -0.974848 -0.983386 -0.997094   \n",
      "16  0.279038 -0.014800 -0.116849 -0.996941 -0.981866 -0.982577 -0.997220   \n",
      "17  0.280135 -0.013917 -0.106370 -0.997695 -0.987516 -0.990407 -0.998014   \n",
      "18  0.277731 -0.018211 -0.109188 -0.997491 -0.993222 -0.996128 -0.997903   \n",
      "19  0.275568 -0.016980 -0.111429 -0.997811 -0.990522 -0.997621 -0.998205   \n",
      "\n",
      "         7         8         9    ...       551       552       553       554  \\\n",
      "0  -0.983185 -0.923527 -0.934724  ... -0.074323 -0.298676 -0.710304 -0.112754   \n",
      "1  -0.974914 -0.957686 -0.943068  ...  0.158075 -0.595051 -0.861499  0.053477   \n",
      "2  -0.963668 -0.977469 -0.938692  ...  0.414503 -0.390748 -0.760104 -0.118559   \n",
      "3  -0.982750 -0.989302 -0.938692  ...  0.404573 -0.117290 -0.482845 -0.036788   \n",
      "4  -0.979672 -0.990441 -0.942469  ...  0.087753 -0.351471 -0.699205  0.123320   \n",
      "5  -0.990218 -0.995549 -0.942469  ...  0.019953 -0.545410 -0.844619  0.082632   \n",
      "6  -0.966097 -0.983116 -0.940987  ...  0.145844 -0.217198 -0.564430 -0.212754   \n",
      "7  -0.966313 -0.982982 -0.940987  ...  0.136382 -0.082307 -0.421715 -0.020888   \n",
      "8  -0.957236 -0.984379 -0.940598  ...  0.314038 -0.269401 -0.572995  0.012954   \n",
      "9  -0.973663 -0.985642 -0.940028  ...  0.267383  0.339526  0.140452 -0.020590   \n",
      "10 -0.973948 -0.985172 -0.940028  ...  0.120503  0.348771  0.057682  0.080699   \n",
      "11 -0.985997 -0.993182 -0.943906  ...  0.351442 -0.611014 -0.878363  0.001761   \n",
      "12 -0.982937 -0.996410 -0.943906  ...  0.689897 -0.686389 -0.878751 -0.077552   \n",
      "13 -0.990687 -0.992168 -0.943323  ...  0.740023 -0.564100 -0.765901  0.105620   \n",
      "14 -0.794280 -0.888015 -0.925977  ...  0.130958  0.207689 -0.068054  0.062297   \n",
      "15 -0.973332 -0.984065 -0.941716  ...  0.661540 -0.782137 -0.953520 -0.121852   \n",
      "16 -0.981620 -0.981336 -0.941716  ...  0.560668 -0.778877 -0.940421 -0.001446   \n",
      "17 -0.987954 -0.992190 -0.942076  ...  0.428614 -0.328899 -0.596861 -0.028332   \n",
      "18 -0.992711 -0.996492 -0.944870  ...  0.348413 -0.501301 -0.838243 -0.165849   \n",
      "19 -0.989470 -0.997193 -0.945662  ...  0.667156 -0.941671 -0.965522  0.244931   \n",
      "\n",
      "         555       556       557       558       559       560  \n",
      "0   0.030400 -0.464761 -0.018446 -0.841247  0.179941 -0.058627  \n",
      "1  -0.007435 -0.732626  0.703511 -0.844788  0.180289 -0.054317  \n",
      "2   0.177899  0.100699  0.808529 -0.848933  0.180637 -0.049118  \n",
      "3  -0.012892  0.640011 -0.485366 -0.848649  0.181935 -0.047663  \n",
      "4   0.122542  0.693578 -0.615971 -0.847865  0.185151 -0.043892  \n",
      "5  -0.143439  0.275041 -0.368224 -0.849632  0.184823 -0.042126  \n",
      "6  -0.230622  0.014637 -0.189512 -0.852150  0.182170 -0.043010  \n",
      "7   0.593996 -0.561871  0.467383 -0.851017  0.183779 -0.041976  \n",
      "8   0.080936 -0.234313  0.117797 -0.847971  0.188982 -0.037364  \n",
      "9  -0.127730 -0.482871 -0.070670 -0.848294  0.190310 -0.034417  \n",
      "10  0.595791 -0.475802  0.115931 -0.851562  0.187609 -0.034681  \n",
      "11 -0.065980  0.578861 -0.651945 -0.852723  0.186050 -0.035852  \n",
      "12 -0.101222  0.639084  0.765485 -0.850654  0.187611 -0.035998  \n",
      "13 -0.090278 -0.132403  0.498814 -0.849773  0.188812 -0.035063  \n",
      "14 -0.058719  0.031208 -0.268791 -0.730937  0.283159  0.036444  \n",
      "15 -0.029077 -0.013034 -0.056927 -0.761101  0.263119  0.024172  \n",
      "16 -0.048110 -0.340473 -0.229155 -0.759172  0.264324  0.027014  \n",
      "17  0.092367 -0.822239  0.367557 -0.759363  0.264033  0.029664  \n",
      "18 -0.033007 -0.240572  0.788193 -0.761052  0.262886  0.029346  \n",
      "19  0.102569  0.066135 -0.411729 -0.760620  0.263169  0.029573  \n",
      "\n",
      "[20 rows x 561 columns]\n"
     ]
    }
   ],
   "source": [
    "standardizer = StandardScaler()\n",
    "dfStandardized = standardizer.fit_transform(df)\n",
    "\n",
    "print(df[:20])\n",
    "\n",
    "X_train_full, X_test_full, y_train, y_test = train_test_split(dfStandardized, yEncoded, test_size=0.2, random_state=42)\n"
   ]
  },
  {
   "cell_type": "code",
   "execution_count": null,
   "id": "d3293c8f-ca46-4149-825e-17a49ffa7df1",
   "metadata": {},
   "outputs": [],
   "source": []
  }
 ],
 "metadata": {
  "kernelspec": {
   "display_name": "Python 3 (ipykernel)",
   "language": "python",
   "name": "python3"
  },
  "language_info": {
   "codemirror_mode": {
    "name": "ipython",
    "version": 3
   },
   "file_extension": ".py",
   "mimetype": "text/x-python",
   "name": "python",
   "nbconvert_exporter": "python",
   "pygments_lexer": "ipython3",
   "version": "3.11.9"
  }
 },
 "nbformat": 4,
 "nbformat_minor": 5
}
