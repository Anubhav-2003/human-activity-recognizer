{
 "cells": [
  {
   "cell_type": "markdown",
   "id": "84e1cab9-b986-4267-a9a4-316c6840d9ff",
   "metadata": {},
   "source": [
    "## Importing Libraries and Loading Data"
   ]
  },
  {
   "cell_type": "code",
   "execution_count": 2,
   "id": "bc872333-64ce-46ed-b54c-1315cae62e70",
   "metadata": {},
   "outputs": [],
   "source": [
    "import requests\n",
    "from bs4 import BeautifulSoup\n",
    "import zipfile\n",
    "import io\n",
    "import pandas as pd\n",
    "from sklearn.cluster import KMeans\n",
    "from sklearn.model_selection import train_test_split\n",
    "from sklearn.preprocessing import LabelEncoder, StandardScaler\n",
    "from sklearn.linear_model import LogisticRegression\n",
    "from sklearn.pipeline import Pipeline\n",
    "from sklearn.metrics import accuracy_score, classification_report\n",
    "import numpy as np\n",
    "import time\n",
    "\n",
    "def load_data():\n",
    "    page_url = 'https://archive.ics.uci.edu/dataset/240/human+activity+recognition+using+smartphones'\n",
    "    page_response = requests.get(page_url)\n",
    "    if page_response.status_code == 200:\n",
    "        soup = BeautifulSoup(page_response.content, 'html.parser')\n",
    "        download_link = soup.select_one('a[href$=\".zip\"]')['href']\n",
    "        full_download_url = 'https://archive.ics.uci.edu' + download_link\n",
    "        response = requests.get(full_download_url)\n",
    "        if response.status_code == 200:\n",
    "            with zipfile.ZipFile(io.BytesIO(response.content)) as outer_zip:\n",
    "                inner_zip_name = 'UCI HAR Dataset.zip'\n",
    "                with outer_zip.open(inner_zip_name) as inner_zip_file:\n",
    "                    with zipfile.ZipFile(io.BytesIO(inner_zip_file.read())) as inner_zip:\n",
    "                        with inner_zip.open('UCI HAR Dataset/train/X_train.txt') as myfile:\n",
    "                            df = pd.read_csv(myfile, delim_whitespace=True, header=None)\n",
    "                        with inner_zip.open('UCI HAR Dataset/train/y_train.txt') as myfile_y:\n",
    "                            y = pd.read_csv(myfile_y, delim_whitespace=True, header=None)\n",
    "    else:\n",
    "        raise Exception(\"Failed to download or parse the dataset.\")\n",
    "    return df, y"
   ]
  },
  {
   "cell_type": "code",
   "execution_count": null,
   "id": "9df1d6b9-91da-46eb-8a66-c36a403c37c3",
   "metadata": {},
   "outputs": [],
   "source": []
  }
 ],
 "metadata": {
  "kernelspec": {
   "display_name": "Python 3 (ipykernel)",
   "language": "python",
   "name": "python3"
  },
  "language_info": {
   "codemirror_mode": {
    "name": "ipython",
    "version": 3
   },
   "file_extension": ".py",
   "mimetype": "text/x-python",
   "name": "python",
   "nbconvert_exporter": "python",
   "pygments_lexer": "ipython3",
   "version": "3.11.9"
  }
 },
 "nbformat": 4,
 "nbformat_minor": 5
}
