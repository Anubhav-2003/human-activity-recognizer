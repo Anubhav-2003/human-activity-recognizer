{
 "cells": [
  {
   "cell_type": "markdown",
   "id": "84e1cab9-b986-4267-a9a4-316c6840d9ff",
   "metadata": {},
   "source": [
    "# Importing Libraries and Loading Data"
   ]
  },
  {
   "cell_type": "code",
   "execution_count": 11,
   "id": "bc872333-64ce-46ed-b54c-1315cae62e70",
   "metadata": {},
   "outputs": [],
   "source": [
    "import requests\n",
    "from bs4 import BeautifulSoup\n",
    "import zipfile\n",
    "import io\n",
    "import pandas as pd\n",
    "from sklearn.cluster import KMeans\n",
    "from sklearn.model_selection import train_test_split\n",
    "from sklearn.preprocessing import LabelEncoder, StandardScaler\n",
    "from sklearn.linear_model import LogisticRegression\n",
    "from sklearn.pipeline import Pipeline\n",
    "from sklearn.metrics import accuracy_score, classification_report\n",
    "import numpy as np\n",
    "import time\n",
    "\n",
    "def loadData():\n",
    "    url = 'https://archive.ics.uci.edu/ml/machine-learning-databases/00240/UCI%20HAR%20Dataset.zip'\n",
    "    response = requests.get(url)\n",
    "\n",
    "    if response.status_code == 200:\n",
    "        with zipfile.ZipFile(io.BytesIO(response.content)) as zip_ref:\n",
    "            with zip_ref.open('UCI HAR Dataset/train/X_train.txt') as myfile:\n",
    "                df = pd.read_csv(myfile, delim_whitespace=True, header=None)\n",
    "            with zip_ref.open('UCI HAR Dataset/train/y_train.txt') as myfile_y:\n",
    "                y = pd.read_csv(myfile_y, delim_whitespace=True, header=None)\n",
    "    else:\n",
    "        raise Exception(\"Failed to download or parse the dataset.\")\n",
    "\n",
    "    return df, y\n"
   ]
  },
  {
   "cell_type": "code",
   "execution_count": 12,
   "id": "9df1d6b9-91da-46eb-8a66-c36a403c37c3",
   "metadata": {},
   "outputs": [
    {
     "name": "stderr",
     "output_type": "stream",
     "text": [
      "/tmp/ipykernel_9121/3227644454.py:22: FutureWarning: The 'delim_whitespace' keyword in pd.read_csv is deprecated and will be removed in a future version. Use ``sep='\\s+'`` instead\n",
      "  df = pd.read_csv(myfile, delim_whitespace=True, header=None)\n",
      "/tmp/ipykernel_9121/3227644454.py:24: FutureWarning: The 'delim_whitespace' keyword in pd.read_csv is deprecated and will be removed in a future version. Use ``sep='\\s+'`` instead\n",
      "  y = pd.read_csv(myfile_y, delim_whitespace=True, header=None)\n"
     ]
    }
   ],
   "source": [
    "df, y = loadData()\n",
    "\n",
    "labelEncoder = LabelEncoder()\n",
    "yEncoded = labelEncoder.fit_transform(y.values.ravel())"
   ]
  },
  {
   "cell_type": "code",
   "execution_count": 13,
   "id": "9d96f025-4986-48f1-a2d1-b6899034dd31",
   "metadata": {},
   "outputs": [],
   "source": [
    "standardizer = StandardScaler()\n",
    "dfStandardized = standardizer.fit_transform(df)\n",
    "\n",
    "# print(df[:20])\n",
    "\n",
    "X_train_full, X_test_full, y_train, y_test = train_test_split(dfStandardized, yEncoded, test_size=0.2, random_state=42)"
   ]
  },
  {
   "cell_type": "markdown",
   "id": "f4b1f541-ac71-4973-87b5-ef26f0a271ff",
   "metadata": {},
   "source": [
    "# Baseline model with all features using Naive Bayes"
   ]
  },
  {
   "cell_type": "code",
   "execution_count": 15,
   "id": "feae2c1f-5091-4428-a073-e0b7de1ec271",
   "metadata": {},
   "outputs": [],
   "source": [
    "from sklearn.naive_bayes import GaussianNB\n",
    "\n",
    "startTime = time.time()\n",
    "classifierPipelineComplete = Pipeline([\n",
    "    ('classifier', GaussianNB())\n",
    "])\n",
    "classifierPipelineComplete.fit(X_train_full, y_train)\n",
    "y_pred_full = classifierPipelineComplete.predict(X_test_full)\n",
    "endTime = time.time()\n",
    "fullFeaturesTime = endTime - startTime\n",
    "accuracyFull = accuracy_score(y_test, y_pred_full)"
   ]
  },
  {
   "cell_type": "markdown",
   "id": "a4b0fb0c-7be7-4a05-832b-530bfef1f56d",
   "metadata": {},
   "source": [
    "# K-Means for dimensionality reduction"
   ]
  },
  {
   "cell_type": "code",
   "execution_count": 17,
   "id": "f186dadb-c296-474d-b951-6d577f834310",
   "metadata": {},
   "outputs": [],
   "source": [
    "from sklearn.cluster import KMeans\n",
    "\n",
    "noOfClusters = 50\n",
    "kMeans = KMeans(n_clusters=noOfClusters, random_state=42, n_init=10)\n",
    "kMeans.fit(dfStandardized.T)\n",
    "selectedFeatures = [np.random.choice(np.where(kMeans.labels_ == i)[0]) for i in range(noOfClusters)]\n",
    "dfReduced = dfStandardized[:, selectedFeatures]"
   ]
  },
  {
   "cell_type": "markdown",
   "id": "d20c7e81-ff58-4bb4-ae62-73933d0cf612",
   "metadata": {},
   "source": [
    "# Split the data with reduced features"
   ]
  },
  {
   "cell_type": "code",
   "execution_count": 19,
   "id": "2cc269c1-1345-4c00-a351-b7c9607e30ae",
   "metadata": {},
   "outputs": [],
   "source": [
    "X_train_reduced, X_test_reduced = train_test_split(dfReduced, test_size=0.2, random_state=42)"
   ]
  },
  {
   "cell_type": "markdown",
   "id": "91c633b6-92c6-4909-9b8f-fb696cfa65c3",
   "metadata": {},
   "source": [
    "# Model with reduced features using Naive Bayes"
   ]
  },
  {
   "cell_type": "code",
   "execution_count": 20,
   "id": "08fa6f09-22bc-4914-9c04-74420de86ad4",
   "metadata": {},
   "outputs": [],
   "source": [
    "from sklearn.naive_bayes import GaussianNB\n",
    "\n",
    "startTime = time.time()\n",
    "classifierPipelineReduced = Pipeline([\n",
    "    ('classifier', GaussianNB())\n",
    "])\n",
    "classifierPipelineReduced.fit(X_train_reduced, y_train)\n",
    "y_pred_reduced = classifierPipelineReduced.predict(X_train_reduced)\n",
    "endTime = time.time()\n",
    "reducedFeaturesTime = endTime - startTime\n",
    "accuracyReduced = accuracy_score(y_test, y_pred_full)"
   ]
  },
  {
   "cell_type": "markdown",
   "id": "64b28487-d409-4ac0-b444-afa6c4f8565d",
   "metadata": {},
   "source": [
    "# Print comparison results"
   ]
  },
  {
   "cell_type": "code",
   "execution_count": 21,
   "id": "e61ee1a8-ddb1-45ff-ad4e-c28ba07cb4b7",
   "metadata": {},
   "outputs": [
    {
     "name": "stdout",
     "output_type": "stream",
     "text": [
      "Baseline Model (All Features):\n",
      "Accuracy: 0.7314751869476547\n",
      "Training Time: 0.1039283275604248 seconds\n",
      "Number of Features: 561\n",
      "\n",
      "Model with Reduced Features (K-Means):\n",
      "Accuracy: 0.7314751869476547\n",
      "Training Time: 0.009704113006591797 seconds\n",
      "Number of Features: 50\n"
     ]
    }
   ],
   "source": [
    "print(\"Baseline Model (All Features):\")\n",
    "print(\"Accuracy:\", accuracyFull)\n",
    "print(\"Training Time:\", fullFeaturesTime, \"seconds\")\n",
    "print(\"Number of Features:\", X_train_full.shape[1])\n",
    "\n",
    "print(\"\\nModel with Reduced Features (K-Means):\")\n",
    "print(\"Accuracy:\", accuracyReduced)\n",
    "print(\"Training Time:\", reducedFeaturesTime, \"seconds\")\n",
    "print(\"Number of Features:\", noOfClusters)\n"
   ]
  },
  {
   "cell_type": "code",
   "execution_count": null,
   "id": "9ab2752b-2c6a-45bc-8a75-b8d9216add91",
   "metadata": {},
   "outputs": [],
   "source": []
  }
 ],
 "metadata": {
  "kernelspec": {
   "display_name": "Python 3 (ipykernel)",
   "language": "python",
   "name": "python3"
  },
  "language_info": {
   "codemirror_mode": {
    "name": "ipython",
    "version": 3
   },
   "file_extension": ".py",
   "mimetype": "text/x-python",
   "name": "python",
   "nbconvert_exporter": "python",
   "pygments_lexer": "ipython3",
   "version": "3.11.9"
  }
 },
 "nbformat": 4,
 "nbformat_minor": 5
}
